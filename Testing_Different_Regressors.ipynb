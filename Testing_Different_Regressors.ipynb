{
 "cells": [
  {
   "cell_type": "markdown",
   "id": "d6457016",
   "metadata": {},
   "source": [
    "## This file tests different regressors for the data"
   ]
  },
  {
   "cell_type": "code",
   "execution_count": 1,
   "id": "1461c8ec",
   "metadata": {},
   "outputs": [],
   "source": [
    "import pandas as pd\n",
    "from sklearn.linear_model import LinearRegression\n",
    "from sklearn.tree import DecisionTreeRegressor\n",
    "from sklearn.ensemble import RandomForestRegressor\n",
    "import matplotlib.pyplot as plt\n",
    "import numpy as np\n",
    "from sklearn.model_selection import train_test_split, GridSearchCV"
   ]
  },
  {
   "cell_type": "code",
   "execution_count": 2,
   "id": "a852a758",
   "metadata": {},
   "outputs": [
    {
     "data": {
      "text/html": [
       "<div>\n",
       "<style scoped>\n",
       "    .dataframe tbody tr th:only-of-type {\n",
       "        vertical-align: middle;\n",
       "    }\n",
       "\n",
       "    .dataframe tbody tr th {\n",
       "        vertical-align: top;\n",
       "    }\n",
       "\n",
       "    .dataframe thead th {\n",
       "        text-align: right;\n",
       "    }\n",
       "</style>\n",
       "<table border=\"1\" class=\"dataframe\">\n",
       "  <thead>\n",
       "    <tr style=\"text-align: right;\">\n",
       "      <th></th>\n",
       "      <th>month</th>\n",
       "      <th>day</th>\n",
       "      <th>temp_F_max</th>\n",
       "      <th>temp_F_avg</th>\n",
       "      <th>temp_F_min</th>\n",
       "      <th>dew_point_F_max</th>\n",
       "      <th>dew_point_F_avg</th>\n",
       "      <th>humidity_percent_max</th>\n",
       "      <th>humidity_percent_avg</th>\n",
       "      <th>humidity_percent_min</th>\n",
       "      <th>wind_speed_mph_max</th>\n",
       "      <th>wind_speed_mph_avg</th>\n",
       "      <th>wind_speed_mph_min</th>\n",
       "      <th>pressure_Hg_max</th>\n",
       "      <th>pressure_Hg_avg</th>\n",
       "      <th>pressure_Hg_min</th>\n",
       "    </tr>\n",
       "  </thead>\n",
       "  <tbody>\n",
       "    <tr>\n",
       "      <th>0</th>\n",
       "      <td>Jan</td>\n",
       "      <td>1</td>\n",
       "      <td>15</td>\n",
       "      <td>10.2</td>\n",
       "      <td>6</td>\n",
       "      <td>7</td>\n",
       "      <td>3.6</td>\n",
       "      <td>80</td>\n",
       "      <td>74.9</td>\n",
       "      <td>68</td>\n",
       "      <td>14</td>\n",
       "      <td>10.1</td>\n",
       "      <td>6</td>\n",
       "      <td>29.7</td>\n",
       "      <td>29.7</td>\n",
       "      <td>29.6</td>\n",
       "    </tr>\n",
       "    <tr>\n",
       "      <th>1</th>\n",
       "      <td>Jan</td>\n",
       "      <td>2</td>\n",
       "      <td>12</td>\n",
       "      <td>6.9</td>\n",
       "      <td>0</td>\n",
       "      <td>3</td>\n",
       "      <td>-0.2</td>\n",
       "      <td>80</td>\n",
       "      <td>72.9</td>\n",
       "      <td>64</td>\n",
       "      <td>17</td>\n",
       "      <td>8.7</td>\n",
       "      <td>0</td>\n",
       "      <td>29.8</td>\n",
       "      <td>29.8</td>\n",
       "      <td>29.7</td>\n",
       "    </tr>\n",
       "    <tr>\n",
       "      <th>2</th>\n",
       "      <td>Jan</td>\n",
       "      <td>3</td>\n",
       "      <td>17</td>\n",
       "      <td>9.4</td>\n",
       "      <td>-1</td>\n",
       "      <td>7</td>\n",
       "      <td>1.6</td>\n",
       "      <td>80</td>\n",
       "      <td>71.0</td>\n",
       "      <td>59</td>\n",
       "      <td>13</td>\n",
       "      <td>7.3</td>\n",
       "      <td>0</td>\n",
       "      <td>29.8</td>\n",
       "      <td>29.8</td>\n",
       "      <td>29.7</td>\n",
       "    </tr>\n",
       "  </tbody>\n",
       "</table>\n",
       "</div>"
      ],
      "text/plain": [
       "  month  day  temp_F_max  temp_F_avg  temp_F_min  dew_point_F_max  \\\n",
       "0   Jan    1          15        10.2           6                7   \n",
       "1   Jan    2          12         6.9           0                3   \n",
       "2   Jan    3          17         9.4          -1                7   \n",
       "\n",
       "   dew_point_F_avg  humidity_percent_max  humidity_percent_avg  \\\n",
       "0              3.6                    80                  74.9   \n",
       "1             -0.2                    80                  72.9   \n",
       "2              1.6                    80                  71.0   \n",
       "\n",
       "   humidity_percent_min  wind_speed_mph_max  wind_speed_mph_avg  \\\n",
       "0                    68                  14                10.1   \n",
       "1                    64                  17                 8.7   \n",
       "2                    59                  13                 7.3   \n",
       "\n",
       "   wind_speed_mph_min  pressure_Hg_max  pressure_Hg_avg  pressure_Hg_min  \n",
       "0                   6             29.7             29.7             29.6  \n",
       "1                   0             29.8             29.8             29.7  \n",
       "2                   0             29.8             29.8             29.7  "
      ]
     },
     "execution_count": 2,
     "metadata": {},
     "output_type": "execute_result"
    }
   ],
   "source": [
    "df = pd.read_excel('./data/Wunderground_West_Lafayette_2010_Clean.xlsx')\n",
    "df.head(3)"
   ]
  },
  {
   "cell_type": "code",
   "execution_count": 3,
   "id": "548c3726",
   "metadata": {},
   "outputs": [
    {
     "data": {
      "text/plain": [
       "month                    object\n",
       "day                       int64\n",
       "temp_F_max                int64\n",
       "temp_F_avg              float64\n",
       "temp_F_min                int64\n",
       "dew_point_F_max           int64\n",
       "dew_point_F_avg         float64\n",
       "humidity_percent_max      int64\n",
       "humidity_percent_avg    float64\n",
       "humidity_percent_min      int64\n",
       "wind_speed_mph_max        int64\n",
       "wind_speed_mph_avg      float64\n",
       "wind_speed_mph_min        int64\n",
       "pressure_Hg_max         float64\n",
       "pressure_Hg_avg         float64\n",
       "pressure_Hg_min         float64\n",
       "dtype: object"
      ]
     },
     "execution_count": 3,
     "metadata": {},
     "output_type": "execute_result"
    }
   ],
   "source": [
    "df.dtypes"
   ]
  },
  {
   "cell_type": "code",
   "execution_count": 4,
   "id": "d5597e73",
   "metadata": {},
   "outputs": [],
   "source": [
    "df.month = df.month.astype('category')\n",
    "df.day = df.day.astype('category')"
   ]
  },
  {
   "cell_type": "code",
   "execution_count": 5,
   "id": "5181253a",
   "metadata": {},
   "outputs": [],
   "source": [
    "baseline_guess = df.temp_F_avg.mean()"
   ]
  },
  {
   "cell_type": "code",
   "execution_count": 6,
   "id": "031dc90d",
   "metadata": {},
   "outputs": [],
   "source": [
    "X = df.loc[:,['month','day','temp_F_max','temp_F_min','humidity_percent_max','humidity_percent_min','wind_speed_mph_max','wind_speed_mph_min','pressure_Hg_max','pressure_Hg_min']]"
   ]
  },
  {
   "cell_type": "code",
   "execution_count": 7,
   "id": "7c43b4a1",
   "metadata": {},
   "outputs": [
    {
     "data": {
      "text/plain": [
       "0      55.5\n",
       "1      10.2\n",
       "2       6.9\n",
       "3       9.4\n",
       "4      11.7\n",
       "       ... \n",
       "360    25.7\n",
       "361    20.2\n",
       "362    22.8\n",
       "363    26.7\n",
       "364    45.1\n",
       "Name: temp_F_avg, Length: 365, dtype: float64"
      ]
     },
     "execution_count": 7,
     "metadata": {},
     "output_type": "execute_result"
    }
   ],
   "source": [
    "y = df.temp_F_avg.shift(1,axis=0)\n",
    "y[0] = df.temp_F_avg[364]\n",
    "y"
   ]
  },
  {
   "cell_type": "code",
   "execution_count": 8,
   "id": "71d473c8",
   "metadata": {},
   "outputs": [
    {
     "data": {
      "text/plain": [
       "362    26.7\n",
       "363    45.1\n",
       "364    55.5\n",
       "Name: temp_F_avg, dtype: float64"
      ]
     },
     "execution_count": 8,
     "metadata": {},
     "output_type": "execute_result"
    }
   ],
   "source": [
    "df.temp_F_avg.tail(3)"
   ]
  },
  {
   "cell_type": "markdown",
   "id": "3e1a003c",
   "metadata": {},
   "source": [
    "The idea with this is to use today's weather to predict tomorrow's"
   ]
  },
  {
   "cell_type": "markdown",
   "id": "0050a693",
   "metadata": {},
   "source": [
    "### Simple Bias Regressor"
   ]
  },
  {
   "cell_type": "code",
   "execution_count": 9,
   "id": "9d41929b",
   "metadata": {},
   "outputs": [
    {
     "name": "stdout",
     "output_type": "stream",
     "text": [
      "Baseline error:  421.1785757928315\n"
     ]
    }
   ],
   "source": [
    "def MSE(y, b):\n",
    "    sum = 0\n",
    "    for v in y:\n",
    "        sum += (v - b)**2\n",
    "    return sum / len(y)\n",
    "sbr_mse = MSE(y, baseline_guess)\n",
    "print(\"Baseline error: \", sbr_mse)"
   ]
  },
  {
   "cell_type": "markdown",
   "id": "aa32c070",
   "metadata": {},
   "source": [
    "### Linear Regressor"
   ]
  },
  {
   "cell_type": "code",
   "execution_count": 10,
   "id": "59834cda",
   "metadata": {},
   "outputs": [
    {
     "data": {
      "text/html": [
       "<div>\n",
       "<style scoped>\n",
       "    .dataframe tbody tr th:only-of-type {\n",
       "        vertical-align: middle;\n",
       "    }\n",
       "\n",
       "    .dataframe tbody tr th {\n",
       "        vertical-align: top;\n",
       "    }\n",
       "\n",
       "    .dataframe thead th {\n",
       "        text-align: right;\n",
       "    }\n",
       "</style>\n",
       "<table border=\"1\" class=\"dataframe\">\n",
       "  <thead>\n",
       "    <tr style=\"text-align: right;\">\n",
       "      <th></th>\n",
       "      <th>temp_F_max</th>\n",
       "      <th>temp_F_min</th>\n",
       "      <th>humidity_percent_max</th>\n",
       "      <th>humidity_percent_min</th>\n",
       "      <th>wind_speed_mph_max</th>\n",
       "      <th>wind_speed_mph_min</th>\n",
       "      <th>pressure_Hg_max</th>\n",
       "      <th>pressure_Hg_min</th>\n",
       "      <th>month_Apr</th>\n",
       "      <th>month_Aug</th>\n",
       "      <th>...</th>\n",
       "      <th>day_22</th>\n",
       "      <th>day_23</th>\n",
       "      <th>day_24</th>\n",
       "      <th>day_25</th>\n",
       "      <th>day_26</th>\n",
       "      <th>day_27</th>\n",
       "      <th>day_28</th>\n",
       "      <th>day_29</th>\n",
       "      <th>day_30</th>\n",
       "      <th>day_31</th>\n",
       "    </tr>\n",
       "  </thead>\n",
       "  <tbody>\n",
       "    <tr>\n",
       "      <th>0</th>\n",
       "      <td>-2.121575</td>\n",
       "      <td>-1.881364</td>\n",
       "      <td>-1.09521</td>\n",
       "      <td>1.048581</td>\n",
       "      <td>-0.031661</td>\n",
       "      <td>2.079206</td>\n",
       "      <td>1.427757</td>\n",
       "      <td>1.547318</td>\n",
       "      <td>0</td>\n",
       "      <td>0</td>\n",
       "      <td>...</td>\n",
       "      <td>0</td>\n",
       "      <td>0</td>\n",
       "      <td>0</td>\n",
       "      <td>0</td>\n",
       "      <td>0</td>\n",
       "      <td>0</td>\n",
       "      <td>0</td>\n",
       "      <td>0</td>\n",
       "      <td>0</td>\n",
       "      <td>0</td>\n",
       "    </tr>\n",
       "    <tr>\n",
       "      <th>1</th>\n",
       "      <td>-2.254804</td>\n",
       "      <td>-2.180101</td>\n",
       "      <td>-1.09521</td>\n",
       "      <td>0.801537</td>\n",
       "      <td>0.546156</td>\n",
       "      <td>-0.477482</td>\n",
       "      <td>1.965560</td>\n",
       "      <td>2.021517</td>\n",
       "      <td>0</td>\n",
       "      <td>0</td>\n",
       "      <td>...</td>\n",
       "      <td>0</td>\n",
       "      <td>0</td>\n",
       "      <td>0</td>\n",
       "      <td>0</td>\n",
       "      <td>0</td>\n",
       "      <td>0</td>\n",
       "      <td>0</td>\n",
       "      <td>0</td>\n",
       "      <td>0</td>\n",
       "      <td>0</td>\n",
       "    </tr>\n",
       "    <tr>\n",
       "      <th>2</th>\n",
       "      <td>-2.032755</td>\n",
       "      <td>-2.229891</td>\n",
       "      <td>-1.09521</td>\n",
       "      <td>0.492733</td>\n",
       "      <td>-0.224267</td>\n",
       "      <td>-0.477482</td>\n",
       "      <td>1.965560</td>\n",
       "      <td>2.021517</td>\n",
       "      <td>0</td>\n",
       "      <td>0</td>\n",
       "      <td>...</td>\n",
       "      <td>0</td>\n",
       "      <td>0</td>\n",
       "      <td>0</td>\n",
       "      <td>0</td>\n",
       "      <td>0</td>\n",
       "      <td>0</td>\n",
       "      <td>0</td>\n",
       "      <td>0</td>\n",
       "      <td>0</td>\n",
       "      <td>0</td>\n",
       "    </tr>\n",
       "  </tbody>\n",
       "</table>\n",
       "<p>3 rows × 51 columns</p>\n",
       "</div>"
      ],
      "text/plain": [
       "   temp_F_max  temp_F_min  humidity_percent_max  humidity_percent_min  \\\n",
       "0   -2.121575   -1.881364              -1.09521              1.048581   \n",
       "1   -2.254804   -2.180101              -1.09521              0.801537   \n",
       "2   -2.032755   -2.229891              -1.09521              0.492733   \n",
       "\n",
       "   wind_speed_mph_max  wind_speed_mph_min  pressure_Hg_max  pressure_Hg_min  \\\n",
       "0           -0.031661            2.079206         1.427757         1.547318   \n",
       "1            0.546156           -0.477482         1.965560         2.021517   \n",
       "2           -0.224267           -0.477482         1.965560         2.021517   \n",
       "\n",
       "   month_Apr  month_Aug  ...  day_22  day_23  day_24  day_25  day_26  day_27  \\\n",
       "0          0          0  ...       0       0       0       0       0       0   \n",
       "1          0          0  ...       0       0       0       0       0       0   \n",
       "2          0          0  ...       0       0       0       0       0       0   \n",
       "\n",
       "   day_28  day_29  day_30  day_31  \n",
       "0       0       0       0       0  \n",
       "1       0       0       0       0  \n",
       "2       0       0       0       0  \n",
       "\n",
       "[3 rows x 51 columns]"
      ]
     },
     "execution_count": 10,
     "metadata": {},
     "output_type": "execute_result"
    }
   ],
   "source": [
    "X_num = X.select_dtypes(include='number')\n",
    "X_cat = X.select_dtypes(exclude='number')\n",
    "std_mean = X_num.mean()\n",
    "std_std = X_num.std()\n",
    "X_num = (X_num - X_num.mean()) / X_num.std()\n",
    "X_cat = pd.get_dummies(X_cat)\n",
    "X_std = pd.concat([X_num,X_cat],axis=1)\n",
    "X_std.head(3)"
   ]
  },
  {
   "cell_type": "code",
   "execution_count": 11,
   "id": "1185ee0a",
   "metadata": {},
   "outputs": [],
   "source": [
    "tmp = pd.concat([X_std,y],axis=1)\n",
    "(train,test) = train_test_split(tmp)\n",
    "X_train_std = train.drop('temp_F_avg',axis=1)\n",
    "y_train = train.temp_F_avg"
   ]
  },
  {
   "cell_type": "code",
   "execution_count": 12,
   "id": "f6e86a71",
   "metadata": {},
   "outputs": [
    {
     "data": {
      "text/plain": [
       "LinearRegression()"
      ]
     },
     "execution_count": 12,
     "metadata": {},
     "output_type": "execute_result"
    }
   ],
   "source": [
    "lr = LinearRegression()\n",
    "lr.fit(X_train_std,y_train)"
   ]
  },
  {
   "cell_type": "code",
   "execution_count": 13,
   "id": "2b368b83",
   "metadata": {},
   "outputs": [
    {
     "name": "stdout",
     "output_type": "stream",
     "text": [
      "Train Score:  0.9331384534644594\n"
     ]
    }
   ],
   "source": [
    "print(\"Train Score: \",lr.score(X_train_std,y_train))"
   ]
  },
  {
   "cell_type": "code",
   "execution_count": 14,
   "id": "b95407cb",
   "metadata": {},
   "outputs": [
    {
     "name": "stdout",
     "output_type": "stream",
     "text": [
      "Validation Score:  0.9332430738699304\n"
     ]
    }
   ],
   "source": [
    "X_test = test.drop('temp_F_avg',axis=1)\n",
    "y_test = test.temp_F_avg\n",
    "print(\"Validation Score: \",lr.score(X_test,y_test))"
   ]
  },
  {
   "cell_type": "markdown",
   "id": "d9e5cccf",
   "metadata": {},
   "source": [
    "### Decision Tree"
   ]
  },
  {
   "cell_type": "code",
   "execution_count": 15,
   "id": "1eec1f0f",
   "metadata": {},
   "outputs": [
    {
     "data": {
      "text/plain": [
       "GridSearchCV(estimator=DecisionTreeRegressor(),\n",
       "             param_grid={'max_depth': range(1, 20)}, return_train_score=True)"
      ]
     },
     "execution_count": 15,
     "metadata": {},
     "output_type": "execute_result"
    }
   ],
   "source": [
    "T = DecisionTreeRegressor()\n",
    "grid={'max_depth':range(1,20)}\n",
    "TCV = GridSearchCV(T,param_grid=grid,return_train_score=True)\n",
    "TCV.fit(X_std,y)"
   ]
  },
  {
   "cell_type": "code",
   "execution_count": 16,
   "id": "ccaee8e0",
   "metadata": {},
   "outputs": [
    {
     "data": {
      "text/plain": [
       "{'max_depth': 10}"
      ]
     },
     "execution_count": 16,
     "metadata": {},
     "output_type": "execute_result"
    }
   ],
   "source": [
    "TCV.best_params_"
   ]
  },
  {
   "cell_type": "code",
   "execution_count": 17,
   "id": "f99d3548",
   "metadata": {},
   "outputs": [
    {
     "data": {
      "text/plain": [
       "-0.05178016870479778"
      ]
     },
     "execution_count": 17,
     "metadata": {},
     "output_type": "execute_result"
    }
   ],
   "source": [
    "TCV.best_score_"
   ]
  },
  {
   "cell_type": "markdown",
   "id": "89e9f8e4",
   "metadata": {},
   "source": [
    "### Random Forest"
   ]
  },
  {
   "cell_type": "code",
   "execution_count": 21,
   "id": "839082ec",
   "metadata": {},
   "outputs": [
    {
     "data": {
      "text/plain": [
       "GridSearchCV(estimator=RandomForestRegressor(), n_jobs=-1,\n",
       "             param_grid={'max_depth': range(10, 200, 10)},\n",
       "             return_train_score=True)"
      ]
     },
     "execution_count": 21,
     "metadata": {},
     "output_type": "execute_result"
    }
   ],
   "source": [
    "rf = RandomForestRegressor()\n",
    "grid={'max_depth':range(10,200,10)}\n",
    "rf_CV = GridSearchCV(rf,param_grid=grid,return_train_score=True,n_jobs=-1)\n",
    "rf_CV.fit(X_std,y)"
   ]
  },
  {
   "cell_type": "code",
   "execution_count": 22,
   "id": "951946bb",
   "metadata": {},
   "outputs": [
    {
     "data": {
      "text/plain": [
       "{'max_depth': 30}"
      ]
     },
     "execution_count": 22,
     "metadata": {},
     "output_type": "execute_result"
    }
   ],
   "source": [
    "rf_CV.best_params_"
   ]
  },
  {
   "cell_type": "code",
   "execution_count": 23,
   "id": "5d6fd884",
   "metadata": {},
   "outputs": [
    {
     "data": {
      "text/plain": [
       "0.29233330500156385"
      ]
     },
     "execution_count": 23,
     "metadata": {},
     "output_type": "execute_result"
    }
   ],
   "source": [
    "rf_CV.best_score_"
   ]
  },
  {
   "cell_type": "markdown",
   "id": "f5028789",
   "metadata": {},
   "source": [
    "By far the best regressor besides the Simple Bias Regressor was the Linear Regressor, getting a substantial validation score. This makes sense for the kinds of trends we're looking at, since we're trying to predict trends."
   ]
  },
  {
   "cell_type": "code",
   "execution_count": null,
   "id": "de3aecfd",
   "metadata": {},
   "outputs": [],
   "source": []
  }
 ],
 "metadata": {
  "kernelspec": {
   "display_name": "Python 3 (ipykernel)",
   "language": "python",
   "name": "python3"
  },
  "language_info": {
   "codemirror_mode": {
    "name": "ipython",
    "version": 3
   },
   "file_extension": ".py",
   "mimetype": "text/x-python",
   "name": "python",
   "nbconvert_exporter": "python",
   "pygments_lexer": "ipython3",
   "version": "3.9.7"
  }
 },
 "nbformat": 4,
 "nbformat_minor": 5
}
