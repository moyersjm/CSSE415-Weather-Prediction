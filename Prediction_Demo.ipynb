{
 "cells": [
  {
   "cell_type": "code",
   "execution_count": 1,
   "id": "901d88ca",
   "metadata": {},
   "outputs": [],
   "source": [
    "import pandas as pd\n",
    "import numpy as np\n",
    "from sklearn.model_selection import GridSearchCV\n",
    "from sklearn.ensemble import GradientBoostingRegressor\n",
    "import pickle"
   ]
  },
  {
   "cell_type": "code",
   "execution_count": 2,
   "id": "f1e0f075",
   "metadata": {},
   "outputs": [
    {
     "name": "stderr",
     "output_type": "stream",
     "text": [
      "C:\\Users\\moyersjm\\anaconda3\\lib\\site-packages\\sklearn\\base.py:310: UserWarning: Trying to unpickle estimator GradientBoostingRegressor from version 1.0.2 when using version 0.24.2. This might lead to breaking code or invalid results. Use at your own risk.\n",
      "  warnings.warn(\n",
      "C:\\Users\\moyersjm\\anaconda3\\lib\\site-packages\\sklearn\\base.py:310: UserWarning: Trying to unpickle estimator DummyRegressor from version 1.0.2 when using version 0.24.2. This might lead to breaking code or invalid results. Use at your own risk.\n",
      "  warnings.warn(\n",
      "C:\\Users\\moyersjm\\anaconda3\\lib\\site-packages\\sklearn\\base.py:310: UserWarning: Trying to unpickle estimator DecisionTreeRegressor from version 1.0.2 when using version 0.24.2. This might lead to breaking code or invalid results. Use at your own risk.\n",
      "  warnings.warn(\n",
      "C:\\Users\\moyersjm\\anaconda3\\lib\\site-packages\\sklearn\\base.py:310: UserWarning: Trying to unpickle estimator GridSearchCV from version 1.0.2 when using version 0.24.2. This might lead to breaking code or invalid results. Use at your own risk.\n",
      "  warnings.warn(\n"
     ]
    }
   ],
   "source": [
    "pickle_model = None\n",
    "filename = './Pickled_Models/mean temperature_4_gbtCV.pkl'\n",
    "with open(filename, 'rb') as file:\n",
    "    pickle_model = pickle.load(file)\n",
    "est = pickle_model.best_estimator_"
   ]
  },
  {
   "cell_type": "code",
   "execution_count": 3,
   "id": "5709e04e",
   "metadata": {},
   "outputs": [
    {
     "data": {
      "text/html": [
       "<div>\n",
       "<style scoped>\n",
       "    .dataframe tbody tr th:only-of-type {\n",
       "        vertical-align: middle;\n",
       "    }\n",
       "\n",
       "    .dataframe tbody tr th {\n",
       "        vertical-align: top;\n",
       "    }\n",
       "\n",
       "    .dataframe thead th {\n",
       "        text-align: right;\n",
       "    }\n",
       "</style>\n",
       "<table border=\"1\" class=\"dataframe\">\n",
       "  <thead>\n",
       "    <tr style=\"text-align: right;\">\n",
       "      <th></th>\n",
       "      <th>Date</th>\n",
       "      <th>Time</th>\n",
       "      <th>Temperature</th>\n",
       "      <th>Dew Point</th>\n",
       "      <th>Humidity</th>\n",
       "      <th>Wind Direction</th>\n",
       "      <th>Wind Speed</th>\n",
       "      <th>Wind Gust</th>\n",
       "      <th>Pressure</th>\n",
       "      <th>Precipitation</th>\n",
       "      <th>Condition</th>\n",
       "    </tr>\n",
       "  </thead>\n",
       "  <tbody>\n",
       "    <tr>\n",
       "      <th>0</th>\n",
       "      <td>2022-5-10-12:53 AM</td>\n",
       "      <td>12:53 AM</td>\n",
       "      <td>71</td>\n",
       "      <td>61</td>\n",
       "      <td>70</td>\n",
       "      <td>S</td>\n",
       "      <td>14</td>\n",
       "      <td>0</td>\n",
       "      <td>29.36</td>\n",
       "      <td>0.0</td>\n",
       "      <td>Fair</td>\n",
       "    </tr>\n",
       "    <tr>\n",
       "      <th>1</th>\n",
       "      <td>2022-5-10-1:53 AM</td>\n",
       "      <td>1:53 AM</td>\n",
       "      <td>70</td>\n",
       "      <td>61</td>\n",
       "      <td>73</td>\n",
       "      <td>S</td>\n",
       "      <td>15</td>\n",
       "      <td>21</td>\n",
       "      <td>29.37</td>\n",
       "      <td>0.0</td>\n",
       "      <td>Fair</td>\n",
       "    </tr>\n",
       "    <tr>\n",
       "      <th>2</th>\n",
       "      <td>2022-5-10-2:53 AM</td>\n",
       "      <td>2:53 AM</td>\n",
       "      <td>69</td>\n",
       "      <td>61</td>\n",
       "      <td>75</td>\n",
       "      <td>S</td>\n",
       "      <td>9</td>\n",
       "      <td>0</td>\n",
       "      <td>29.39</td>\n",
       "      <td>0.0</td>\n",
       "      <td>Fair</td>\n",
       "    </tr>\n",
       "  </tbody>\n",
       "</table>\n",
       "</div>"
      ],
      "text/plain": [
       "                 Date      Time  Temperature  Dew Point  Humidity  \\\n",
       "0  2022-5-10-12:53 AM  12:53 AM           71         61        70   \n",
       "1   2022-5-10-1:53 AM   1:53 AM           70         61        73   \n",
       "2   2022-5-10-2:53 AM   2:53 AM           69         61        75   \n",
       "\n",
       "  Wind Direction  Wind Speed  Wind Gust  Pressure  Precipitation Condition  \n",
       "0              S          14          0     29.36            0.0      Fair  \n",
       "1              S          15         21     29.37            0.0      Fair  \n",
       "2              S           9          0     29.39            0.0      Fair  "
      ]
     },
     "execution_count": 3,
     "metadata": {},
     "output_type": "execute_result"
    }
   ],
   "source": [
    "df = pd.read_csv('./data/wunderground_scraped_data_daily_presentation_clean.csv')\n",
    "df.head(3)"
   ]
  },
  {
   "cell_type": "code",
   "execution_count": 4,
   "id": "0d346fc3",
   "metadata": {},
   "outputs": [],
   "source": [
    "df_1 = df.loc[df.Date.str.contains('2022-5-18')]"
   ]
  },
  {
   "cell_type": "code",
   "execution_count": 5,
   "id": "580f9cf6",
   "metadata": {},
   "outputs": [],
   "source": [
    "df_4 = df.loc[df.Date.str.contains('2022-5-15')]"
   ]
  },
  {
   "cell_type": "code",
   "execution_count": 6,
   "id": "526ae4a2",
   "metadata": {},
   "outputs": [],
   "source": [
    "df_7 = df.loc[df.Date.str.contains('2022-5-12')]"
   ]
  },
  {
   "cell_type": "code",
   "execution_count": 7,
   "id": "403ec1a0",
   "metadata": {},
   "outputs": [],
   "source": [
    "th_altitude = 499\n",
    "th_latitude = 39.4697"
   ]
  },
  {
   "cell_type": "code",
   "execution_count": 8,
   "id": "b7a3eeb7",
   "metadata": {},
   "outputs": [
    {
     "data": {
      "text/plain": [
       "array(['day_of_year', 'altitude', 'latitude', 'temperature_0_12',\n",
       "       'temperature_0_13', 'temperature_0_14', 'temperature_0_15',\n",
       "       'temperature_0_16', 'temperature_0_17', 'temperature_0_18',\n",
       "       'temperature_0_19', 'temperature_0_20', 'temperature_0_21',\n",
       "       'temperature_0_22', 'temperature_0_23', 'temperature_0_0',\n",
       "       'temperature_0_1', 'temperature_0_2', 'temperature_0_3',\n",
       "       'temperature_0_4', 'temperature_0_5', 'temperature_0_6',\n",
       "       'temperature_0_7', 'temperature_0_8', 'temperature_0_9',\n",
       "       'temperature_0_10', 'temperature_0_11', 'pressure_0_12',\n",
       "       'pressure_0_13', 'pressure_0_14', 'pressure_0_15', 'pressure_0_16',\n",
       "       'pressure_0_17', 'pressure_0_18', 'pressure_0_19', 'pressure_0_20',\n",
       "       'pressure_0_21', 'pressure_0_22', 'pressure_0_23', 'pressure_0_0',\n",
       "       'pressure_0_1', 'pressure_0_2', 'pressure_0_3', 'pressure_0_4',\n",
       "       'pressure_0_5', 'pressure_0_6', 'pressure_0_7', 'pressure_0_8',\n",
       "       'pressure_0_9', 'pressure_0_10', 'pressure_0_11',\n",
       "       'wind_speed_0_12', 'wind_speed_0_13', 'wind_speed_0_14',\n",
       "       'wind_speed_0_15', 'wind_speed_0_16', 'wind_speed_0_17',\n",
       "       'wind_speed_0_18', 'wind_speed_0_19', 'wind_speed_0_20',\n",
       "       'wind_speed_0_21', 'wind_speed_0_22', 'wind_speed_0_23',\n",
       "       'wind_speed_0_0', 'wind_speed_0_1', 'wind_speed_0_2',\n",
       "       'wind_speed_0_3', 'wind_speed_0_4', 'wind_speed_0_5',\n",
       "       'wind_speed_0_6', 'wind_speed_0_7', 'wind_speed_0_8',\n",
       "       'wind_speed_0_9', 'wind_speed_0_10', 'wind_speed_0_11',\n",
       "       'humidity_0_12', 'humidity_0_13', 'humidity_0_14', 'humidity_0_15',\n",
       "       'humidity_0_16', 'humidity_0_17', 'humidity_0_18', 'humidity_0_19',\n",
       "       'humidity_0_20', 'humidity_0_21', 'humidity_0_22', 'humidity_0_23',\n",
       "       'humidity_0_0', 'humidity_0_1', 'humidity_0_2', 'humidity_0_3',\n",
       "       'humidity_0_4', 'humidity_0_5', 'humidity_0_6', 'humidity_0_7',\n",
       "       'humidity_0_8', 'humidity_0_9', 'humidity_0_10', 'humidity_0_11',\n",
       "       'wind_direction_0_12', 'wind_direction_0_13',\n",
       "       'wind_direction_0_14', 'wind_direction_0_15',\n",
       "       'wind_direction_0_16', 'wind_direction_0_17',\n",
       "       'wind_direction_0_18', 'wind_direction_0_19',\n",
       "       'wind_direction_0_20', 'wind_direction_0_21',\n",
       "       'wind_direction_0_22', 'wind_direction_0_23', 'wind_direction_0_0',\n",
       "       'wind_direction_0_1', 'wind_direction_0_2', 'wind_direction_0_3',\n",
       "       'wind_direction_0_4', 'wind_direction_0_5', 'wind_direction_0_6',\n",
       "       'wind_direction_0_7', 'wind_direction_0_8', 'wind_direction_0_9',\n",
       "       'wind_direction_0_10', 'wind_direction_0_11'], dtype=object)"
      ]
     },
     "execution_count": 8,
     "metadata": {},
     "output_type": "execute_result"
    }
   ],
   "source": [
    "est.feature_names_in_"
   ]
  },
  {
   "cell_type": "code",
   "execution_count": 9,
   "id": "fcffb687",
   "metadata": {},
   "outputs": [],
   "source": [
    "df_4 = df_4.drop(['Date', 'Condition'],axis=1)"
   ]
  },
  {
   "cell_type": "code",
   "execution_count": 10,
   "id": "efcde715",
   "metadata": {},
   "outputs": [],
   "source": [
    "df_4.Time = pd.to_datetime(df_4.Time)"
   ]
  },
  {
   "cell_type": "code",
   "execution_count": 11,
   "id": "c5238534",
   "metadata": {},
   "outputs": [],
   "source": [
    "df_tmp_4 = pd.DataFrame(columns=est.feature_names_in_)\n",
    "df_tmp_4['day_of_year'] = [134]\n",
    "df_tmp_4['altitude'] = [th_altitude]\n",
    "df_tmp_4['latitude'] = [th_latitude]"
   ]
  },
  {
   "cell_type": "code",
   "execution_count": null,
   "id": "7171667c",
   "metadata": {},
   "outputs": [],
   "source": []
  },
  {
   "cell_type": "code",
   "execution_count": 12,
   "id": "ac5a374e",
   "metadata": {},
   "outputs": [],
   "source": [
    "df_4['Wind Direction'] = df_4['Wind Direction'].replace(\\\n",
    "    ['CALM','N','NNW','NW','WNW','W','WSW','SW','SSW','S','SSE','SE','ESE','E','ENE','NE','NNE','VAR'],\n",
    "    [0, 0, 337.5, 315, 292.5, 270, 247.5, 225, 202.5, 180, 157.5, 135, 112.5, 90, 67.5, 45, 22.5, 0])"
   ]
  },
  {
   "cell_type": "code",
   "execution_count": 13,
   "id": "592ec1b7",
   "metadata": {},
   "outputs": [
    {
     "data": {
      "text/html": [
       "<div>\n",
       "<style scoped>\n",
       "    .dataframe tbody tr th:only-of-type {\n",
       "        vertical-align: middle;\n",
       "    }\n",
       "\n",
       "    .dataframe tbody tr th {\n",
       "        vertical-align: top;\n",
       "    }\n",
       "\n",
       "    .dataframe thead th {\n",
       "        text-align: right;\n",
       "    }\n",
       "</style>\n",
       "<table border=\"1\" class=\"dataframe\">\n",
       "  <thead>\n",
       "    <tr style=\"text-align: right;\">\n",
       "      <th></th>\n",
       "      <th>day_of_year</th>\n",
       "      <th>altitude</th>\n",
       "      <th>latitude</th>\n",
       "      <th>temperature_0_12</th>\n",
       "      <th>temperature_0_13</th>\n",
       "      <th>temperature_0_14</th>\n",
       "      <th>temperature_0_15</th>\n",
       "      <th>temperature_0_16</th>\n",
       "      <th>temperature_0_17</th>\n",
       "      <th>temperature_0_18</th>\n",
       "      <th>...</th>\n",
       "      <th>wind_direction_0_2</th>\n",
       "      <th>wind_direction_0_3</th>\n",
       "      <th>wind_direction_0_4</th>\n",
       "      <th>wind_direction_0_5</th>\n",
       "      <th>wind_direction_0_6</th>\n",
       "      <th>wind_direction_0_7</th>\n",
       "      <th>wind_direction_0_8</th>\n",
       "      <th>wind_direction_0_9</th>\n",
       "      <th>wind_direction_0_10</th>\n",
       "      <th>wind_direction_0_11</th>\n",
       "    </tr>\n",
       "  </thead>\n",
       "  <tbody>\n",
       "    <tr>\n",
       "      <th>0</th>\n",
       "      <td>134</td>\n",
       "      <td>499</td>\n",
       "      <td>39.4697</td>\n",
       "      <td>299.816667</td>\n",
       "      <td>301.483333</td>\n",
       "      <td>302.594444</td>\n",
       "      <td>302.594444</td>\n",
       "      <td>302.594444</td>\n",
       "      <td>297.594444</td>\n",
       "      <td>293.372222</td>\n",
       "      <td>...</td>\n",
       "      <td>0.0</td>\n",
       "      <td>0.0</td>\n",
       "      <td>0.0</td>\n",
       "      <td>15.0</td>\n",
       "      <td>0.0</td>\n",
       "      <td>0.0</td>\n",
       "      <td>180.0</td>\n",
       "      <td>0.0</td>\n",
       "      <td>0.0</td>\n",
       "      <td>0.0</td>\n",
       "    </tr>\n",
       "  </tbody>\n",
       "</table>\n",
       "<p>1 rows × 123 columns</p>\n",
       "</div>"
      ],
      "text/plain": [
       "   day_of_year  altitude  latitude  temperature_0_12  temperature_0_13  \\\n",
       "0          134       499   39.4697        299.816667        301.483333   \n",
       "\n",
       "   temperature_0_14  temperature_0_15  temperature_0_16  temperature_0_17  \\\n",
       "0        302.594444        302.594444        302.594444        297.594444   \n",
       "\n",
       "   temperature_0_18  ...  wind_direction_0_2  wind_direction_0_3  \\\n",
       "0        293.372222  ...                 0.0                 0.0   \n",
       "\n",
       "   wind_direction_0_4  wind_direction_0_5  wind_direction_0_6  \\\n",
       "0                 0.0                15.0                 0.0   \n",
       "\n",
       "   wind_direction_0_7  wind_direction_0_8  wind_direction_0_9  \\\n",
       "0                 0.0               180.0                 0.0   \n",
       "\n",
       "   wind_direction_0_10  wind_direction_0_11  \n",
       "0                  0.0                  0.0  \n",
       "\n",
       "[1 rows x 123 columns]"
      ]
     },
     "execution_count": 13,
     "metadata": {},
     "output_type": "execute_result"
    }
   ],
   "source": [
    "for k in range(24):\n",
    "    col = f\"temperature_0_{k}\"\n",
    "    df_tmp_4[col] = ((df_4.loc[df_4.Time.dt.hour == k].Temperature - 32) * (5/9) + 273.15).mean() # Convert to K\n",
    "    col = f\"pressure_0_{k}\"\n",
    "    df_tmp_4[col] = df_4.loc[df_4.Time.dt.hour == k].Pressure.mean()\n",
    "    col = f\"wind_speed_0_{k}\"\n",
    "    df_tmp_4[col] = df_4.loc[df_4.Time.dt.hour == k]['Wind Speed'].mean()\n",
    "    col = f\"humidity_0_{k}\"\n",
    "    df_tmp_4[col] = df_4.loc[df_4.Time.dt.hour == k].Humidity.mean()\n",
    "    col = f\"wind_direction_0_{k}\"\n",
    "    df_tmp_4[col] = df_4.loc[df_4.Time.dt.hour == k]['Wind Direction'].mean()\n",
    "df_tmp_4.head()"
   ]
  },
  {
   "cell_type": "code",
   "execution_count": 14,
   "id": "b7d60d50",
   "metadata": {},
   "outputs": [
    {
     "ename": "AttributeError",
     "evalue": "'GradientBoostingRegressor' object has no attribute 'n_features_'",
     "output_type": "error",
     "traceback": [
      "\u001b[1;31m---------------------------------------------------------------------------\u001b[0m",
      "\u001b[1;31mAttributeError\u001b[0m                            Traceback (most recent call last)",
      "\u001b[1;32m~\\AppData\\Local\\Temp/ipykernel_19856/209654430.py\u001b[0m in \u001b[0;36m<module>\u001b[1;34m\u001b[0m\n\u001b[1;32m----> 1\u001b[1;33m \u001b[0mest\u001b[0m\u001b[1;33m.\u001b[0m\u001b[0mpredict\u001b[0m\u001b[1;33m(\u001b[0m\u001b[0mdf_tmp_4\u001b[0m\u001b[1;33m)\u001b[0m\u001b[1;33m\u001b[0m\u001b[1;33m\u001b[0m\u001b[0m\n\u001b[0m",
      "\u001b[1;32m~\\anaconda3\\lib\\site-packages\\sklearn\\ensemble\\_gb.py\u001b[0m in \u001b[0;36mpredict\u001b[1;34m(self, X)\u001b[0m\n\u001b[0;32m   1650\u001b[0m         \u001b[0mX\u001b[0m \u001b[1;33m=\u001b[0m \u001b[0mcheck_array\u001b[0m\u001b[1;33m(\u001b[0m\u001b[0mX\u001b[0m\u001b[1;33m,\u001b[0m \u001b[0mdtype\u001b[0m\u001b[1;33m=\u001b[0m\u001b[0mDTYPE\u001b[0m\u001b[1;33m,\u001b[0m \u001b[0morder\u001b[0m\u001b[1;33m=\u001b[0m\u001b[1;34m\"C\"\u001b[0m\u001b[1;33m,\u001b[0m \u001b[0maccept_sparse\u001b[0m\u001b[1;33m=\u001b[0m\u001b[1;34m'csr'\u001b[0m\u001b[1;33m)\u001b[0m\u001b[1;33m\u001b[0m\u001b[1;33m\u001b[0m\u001b[0m\n\u001b[0;32m   1651\u001b[0m         \u001b[1;31m# In regression we can directly return the raw value from the trees.\u001b[0m\u001b[1;33m\u001b[0m\u001b[1;33m\u001b[0m\u001b[0m\n\u001b[1;32m-> 1652\u001b[1;33m         \u001b[1;32mreturn\u001b[0m \u001b[0mself\u001b[0m\u001b[1;33m.\u001b[0m\u001b[0m_raw_predict\u001b[0m\u001b[1;33m(\u001b[0m\u001b[0mX\u001b[0m\u001b[1;33m)\u001b[0m\u001b[1;33m.\u001b[0m\u001b[0mravel\u001b[0m\u001b[1;33m(\u001b[0m\u001b[1;33m)\u001b[0m\u001b[1;33m\u001b[0m\u001b[1;33m\u001b[0m\u001b[0m\n\u001b[0m\u001b[0;32m   1653\u001b[0m \u001b[1;33m\u001b[0m\u001b[0m\n\u001b[0;32m   1654\u001b[0m     \u001b[1;32mdef\u001b[0m \u001b[0mstaged_predict\u001b[0m\u001b[1;33m(\u001b[0m\u001b[0mself\u001b[0m\u001b[1;33m,\u001b[0m \u001b[0mX\u001b[0m\u001b[1;33m)\u001b[0m\u001b[1;33m:\u001b[0m\u001b[1;33m\u001b[0m\u001b[1;33m\u001b[0m\u001b[0m\n",
      "\u001b[1;32m~\\anaconda3\\lib\\site-packages\\sklearn\\ensemble\\_gb.py\u001b[0m in \u001b[0;36m_raw_predict\u001b[1;34m(self, X)\u001b[0m\n\u001b[0;32m    622\u001b[0m     \u001b[1;32mdef\u001b[0m \u001b[0m_raw_predict\u001b[0m\u001b[1;33m(\u001b[0m\u001b[0mself\u001b[0m\u001b[1;33m,\u001b[0m \u001b[0mX\u001b[0m\u001b[1;33m)\u001b[0m\u001b[1;33m:\u001b[0m\u001b[1;33m\u001b[0m\u001b[1;33m\u001b[0m\u001b[0m\n\u001b[0;32m    623\u001b[0m         \u001b[1;34m\"\"\"Return the sum of the trees raw predictions (+ init estimator).\"\"\"\u001b[0m\u001b[1;33m\u001b[0m\u001b[1;33m\u001b[0m\u001b[0m\n\u001b[1;32m--> 624\u001b[1;33m         \u001b[0mraw_predictions\u001b[0m \u001b[1;33m=\u001b[0m \u001b[0mself\u001b[0m\u001b[1;33m.\u001b[0m\u001b[0m_raw_predict_init\u001b[0m\u001b[1;33m(\u001b[0m\u001b[0mX\u001b[0m\u001b[1;33m)\u001b[0m\u001b[1;33m\u001b[0m\u001b[1;33m\u001b[0m\u001b[0m\n\u001b[0m\u001b[0;32m    625\u001b[0m         predict_stages(self.estimators_, X, self.learning_rate,\n\u001b[0;32m    626\u001b[0m                        raw_predictions)\n",
      "\u001b[1;32m~\\anaconda3\\lib\\site-packages\\sklearn\\ensemble\\_gb.py\u001b[0m in \u001b[0;36m_raw_predict_init\u001b[1;34m(self, X)\u001b[0m\n\u001b[0;32m    609\u001b[0m         \u001b[0mself\u001b[0m\u001b[1;33m.\u001b[0m\u001b[0m_check_initialized\u001b[0m\u001b[1;33m(\u001b[0m\u001b[1;33m)\u001b[0m\u001b[1;33m\u001b[0m\u001b[1;33m\u001b[0m\u001b[0m\n\u001b[0;32m    610\u001b[0m         \u001b[0mX\u001b[0m \u001b[1;33m=\u001b[0m \u001b[0mself\u001b[0m\u001b[1;33m.\u001b[0m\u001b[0mestimators_\u001b[0m\u001b[1;33m[\u001b[0m\u001b[1;36m0\u001b[0m\u001b[1;33m,\u001b[0m \u001b[1;36m0\u001b[0m\u001b[1;33m]\u001b[0m\u001b[1;33m.\u001b[0m\u001b[0m_validate_X_predict\u001b[0m\u001b[1;33m(\u001b[0m\u001b[0mX\u001b[0m\u001b[1;33m,\u001b[0m \u001b[0mcheck_input\u001b[0m\u001b[1;33m=\u001b[0m\u001b[1;32mTrue\u001b[0m\u001b[1;33m)\u001b[0m\u001b[1;33m\u001b[0m\u001b[1;33m\u001b[0m\u001b[0m\n\u001b[1;32m--> 611\u001b[1;33m         \u001b[1;32mif\u001b[0m \u001b[0mX\u001b[0m\u001b[1;33m.\u001b[0m\u001b[0mshape\u001b[0m\u001b[1;33m[\u001b[0m\u001b[1;36m1\u001b[0m\u001b[1;33m]\u001b[0m \u001b[1;33m!=\u001b[0m \u001b[0mself\u001b[0m\u001b[1;33m.\u001b[0m\u001b[0mn_features_\u001b[0m\u001b[1;33m:\u001b[0m\u001b[1;33m\u001b[0m\u001b[1;33m\u001b[0m\u001b[0m\n\u001b[0m\u001b[0;32m    612\u001b[0m             raise ValueError(\"X.shape[1] should be {0:d}, not {1:d}.\".format(\n\u001b[0;32m    613\u001b[0m                 self.n_features_, X.shape[1]))\n",
      "\u001b[1;31mAttributeError\u001b[0m: 'GradientBoostingRegressor' object has no attribute 'n_features_'"
     ]
    }
   ],
   "source": [
    "est.predict(df_tmp_4)"
   ]
  },
  {
   "cell_type": "code",
   "execution_count": 15,
   "id": "ce4602ec",
   "metadata": {},
   "outputs": [
    {
     "data": {
      "text/plain": [
       "(123,)"
      ]
     },
     "execution_count": 15,
     "metadata": {},
     "output_type": "execute_result"
    }
   ],
   "source": [
    "est.feature_names_in_.shape"
   ]
  },
  {
   "cell_type": "code",
   "execution_count": null,
   "id": "0da91f5f",
   "metadata": {},
   "outputs": [],
   "source": []
  }
 ],
 "metadata": {
  "kernelspec": {
   "display_name": "Python 3 (ipykernel)",
   "language": "python",
   "name": "python3"
  },
  "language_info": {
   "codemirror_mode": {
    "name": "ipython",
    "version": 3
   },
   "file_extension": ".py",
   "mimetype": "text/x-python",
   "name": "python",
   "nbconvert_exporter": "python",
   "pygments_lexer": "ipython3",
   "version": "3.9.7"
  }
 },
 "nbformat": 4,
 "nbformat_minor": 5
}
