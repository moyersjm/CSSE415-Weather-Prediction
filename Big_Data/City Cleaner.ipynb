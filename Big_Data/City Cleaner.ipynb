{
 "cells": [
  {
   "cell_type": "code",
   "execution_count": 1,
   "id": "d6fb29e5",
   "metadata": {},
   "outputs": [],
   "source": [
    "import pandas as pd\n",
    "import numpy as np"
   ]
  },
  {
   "cell_type": "code",
   "execution_count": 2,
   "id": "4585597d",
   "metadata": {},
   "outputs": [],
   "source": [
    "h = pd.read_hdf('./big_data_with_city.h5')"
   ]
  },
  {
   "cell_type": "code",
   "execution_count": 3,
   "id": "a8213fdc",
   "metadata": {},
   "outputs": [],
   "source": [
    "h.to_csv('big_data_weather_desc.csv')"
   ]
  },
  {
   "cell_type": "code",
   "execution_count": null,
   "id": "d51b74f9",
   "metadata": {},
   "outputs": [],
   "source": []
  }
 ],
 "metadata": {
  "kernelspec": {
   "display_name": "Python 3 (ipykernel)",
   "language": "python",
   "name": "python3"
  },
  "language_info": {
   "codemirror_mode": {
    "name": "ipython",
    "version": 3
   },
   "file_extension": ".py",
   "mimetype": "text/x-python",
   "name": "python",
   "nbconvert_exporter": "python",
   "pygments_lexer": "ipython3",
   "version": "3.9.7"
  }
 },
 "nbformat": 4,
 "nbformat_minor": 5
}
