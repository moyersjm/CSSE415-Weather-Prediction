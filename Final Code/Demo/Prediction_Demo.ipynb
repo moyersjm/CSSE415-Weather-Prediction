{
 "cells": [
  {
   "cell_type": "markdown",
   "id": "02df96f8",
   "metadata": {},
   "source": [
    "# In-Class Prediction Demo\n",
    "## Instructions:\n",
    "#### Run the code below completely through. This file assumes all other files are in the same directory. All of the models are pre-trained and are obtained from \"get_pickle.\" The data is centered to predict the weather on May 19, 2022."
   ]
  },
  {
   "cell_type": "code",
   "execution_count": 1,
   "id": "901d88ca",
   "metadata": {},
   "outputs": [],
   "source": [
    "import pandas as pd\n",
    "import numpy as np\n",
    "from sklearn.model_selection import GridSearchCV\n",
    "from sklearn.ensemble import GradientBoostingRegressor\n",
    "import pickle"
   ]
  },
  {
   "cell_type": "code",
   "execution_count": 2,
   "id": "f1e0f075",
   "metadata": {},
   "outputs": [],
   "source": [
    "pickle_model = None\n",
    "filename = './mean temperature_4_gbtCV.pkl'\n",
    "with open(filename, 'rb') as file:\n",
    "    pickle_model = pickle.load(file)\n",
    "est = pickle_model.best_estimator_"
   ]
  },
  {
   "cell_type": "code",
   "execution_count": 3,
   "id": "5709e04e",
   "metadata": {},
   "outputs": [
    {
     "data": {
      "text/html": [
       "<div>\n",
       "<style scoped>\n",
       "    .dataframe tbody tr th:only-of-type {\n",
       "        vertical-align: middle;\n",
       "    }\n",
       "\n",
       "    .dataframe tbody tr th {\n",
       "        vertical-align: top;\n",
       "    }\n",
       "\n",
       "    .dataframe thead th {\n",
       "        text-align: right;\n",
       "    }\n",
       "</style>\n",
       "<table border=\"1\" class=\"dataframe\">\n",
       "  <thead>\n",
       "    <tr style=\"text-align: right;\">\n",
       "      <th></th>\n",
       "      <th>Date</th>\n",
       "      <th>Time</th>\n",
       "      <th>Temperature</th>\n",
       "      <th>Dew Point</th>\n",
       "      <th>Humidity</th>\n",
       "      <th>Wind Direction</th>\n",
       "      <th>Wind Speed</th>\n",
       "      <th>Wind Gust</th>\n",
       "      <th>Pressure</th>\n",
       "      <th>Precipitation</th>\n",
       "      <th>Condition</th>\n",
       "    </tr>\n",
       "  </thead>\n",
       "  <tbody>\n",
       "    <tr>\n",
       "      <th>0</th>\n",
       "      <td>2022-5-10-12:53 AM</td>\n",
       "      <td>12:53 AM</td>\n",
       "      <td>71</td>\n",
       "      <td>61</td>\n",
       "      <td>70</td>\n",
       "      <td>S</td>\n",
       "      <td>14</td>\n",
       "      <td>0</td>\n",
       "      <td>29.36</td>\n",
       "      <td>0.0</td>\n",
       "      <td>Fair</td>\n",
       "    </tr>\n",
       "    <tr>\n",
       "      <th>1</th>\n",
       "      <td>2022-5-10-1:53 AM</td>\n",
       "      <td>1:53 AM</td>\n",
       "      <td>70</td>\n",
       "      <td>61</td>\n",
       "      <td>73</td>\n",
       "      <td>S</td>\n",
       "      <td>15</td>\n",
       "      <td>21</td>\n",
       "      <td>29.37</td>\n",
       "      <td>0.0</td>\n",
       "      <td>Fair</td>\n",
       "    </tr>\n",
       "    <tr>\n",
       "      <th>2</th>\n",
       "      <td>2022-5-10-2:53 AM</td>\n",
       "      <td>2:53 AM</td>\n",
       "      <td>69</td>\n",
       "      <td>61</td>\n",
       "      <td>75</td>\n",
       "      <td>S</td>\n",
       "      <td>9</td>\n",
       "      <td>0</td>\n",
       "      <td>29.39</td>\n",
       "      <td>0.0</td>\n",
       "      <td>Fair</td>\n",
       "    </tr>\n",
       "  </tbody>\n",
       "</table>\n",
       "</div>"
      ],
      "text/plain": [
       "                 Date      Time  Temperature  Dew Point  Humidity  \\\n",
       "0  2022-5-10-12:53 AM  12:53 AM           71         61        70   \n",
       "1   2022-5-10-1:53 AM   1:53 AM           70         61        73   \n",
       "2   2022-5-10-2:53 AM   2:53 AM           69         61        75   \n",
       "\n",
       "  Wind Direction  Wind Speed  Wind Gust  Pressure  Precipitation Condition  \n",
       "0              S          14          0     29.36            0.0      Fair  \n",
       "1              S          15         21     29.37            0.0      Fair  \n",
       "2              S           9          0     29.39            0.0      Fair  "
      ]
     },
     "execution_count": 3,
     "metadata": {},
     "output_type": "execute_result"
    }
   ],
   "source": [
    "df = pd.read_csv('./wunderground_scraped_data_daily_presentation_clean.csv')\n",
    "df.head(3)"
   ]
  },
  {
   "cell_type": "code",
   "execution_count": 4,
   "id": "0d346fc3",
   "metadata": {},
   "outputs": [],
   "source": [
    "df_1 = df.loc[df.Date.str.contains('2022-5-18')]"
   ]
  },
  {
   "cell_type": "code",
   "execution_count": 5,
   "id": "580f9cf6",
   "metadata": {},
   "outputs": [],
   "source": [
    "df_4 = df.loc[df.Date.str.contains('2022-5-15')]"
   ]
  },
  {
   "cell_type": "code",
   "execution_count": 7,
   "id": "403ec1a0",
   "metadata": {},
   "outputs": [],
   "source": [
    "df_7 = df.loc[df.Date.str.contains('2022-5-12')]"
   ]
  },
  {
   "cell_type": "code",
   "execution_count": 16,
   "id": "0da91f5f",
   "metadata": {},
   "outputs": [],
   "source": [
    "def populate_test(df, est, day=4):\n",
    "    date = 138 - day\n",
    "    th_altitude = 499\n",
    "    th_latitude = 39.4697\n",
    "    out = pd.DataFrame(columns=est.feature_names_in_)\n",
    "    out['day_of_year'] = [134]\n",
    "    out['altitude'] = [th_altitude]\n",
    "    out['latitude'] = [th_latitude]\n",
    "    \n",
    "    df.Time = pd.to_datetime(df.Time)\n",
    "    df['Wind Direction'] = df['Wind Direction'].replace(\\\n",
    "        ['CALM','N','NNW','NW','WNW','W','WSW','SW','SSW','S','SSE','SE','ESE','E','ENE','NE','NNE','VAR'],\n",
    "        [0, 0, 337.5, 315, 292.5, 270, 247.5, 225, 202.5, 180, 157.5, 135, 112.5, 90, 67.5, 45, 22.5, 0])\n",
    "    for k in range(24):\n",
    "        col = f\"temperature_0_{k}\"\n",
    "        out[col] = ((df.loc[df.Time.dt.hour == k].Temperature - 32) * (5/9) + 273.15).mean() # Convert to K\n",
    "        col = f\"pressure_0_{k}\"\n",
    "        out[col] = df.loc[df.Time.dt.hour == k].Pressure.mean()\n",
    "        col = f\"wind_speed_0_{k}\"\n",
    "        out[col] = df.loc[df.Time.dt.hour == k]['Wind Speed'].mean()\n",
    "        col = f\"humidity_0_{k}\"\n",
    "        out[col] = df.loc[df.Time.dt.hour == k].Humidity.mean()\n",
    "        col = f\"wind_direction_0_{k}\"\n",
    "        out[col] = df.loc[df.Time.dt.hour == k]['Wind Direction'].mean()\n",
    "    return out\n",
    "\n",
    "def k_to_f(pred):\n",
    "    return (pred - 273.15) * 9/5 + 32\n",
    "\n",
    "def get_pickle(filename):\n",
    "    with open(filename, 'rb') as file:\n",
    "        pickle_model = pickle.load(file)\n",
    "    return pickle_model.best_estimator_"
   ]
  },
  {
   "cell_type": "code",
   "execution_count": 23,
   "id": "60a70994",
   "metadata": {},
   "outputs": [
    {
     "name": "stdout",
     "output_type": "stream",
     "text": [
      "4-day temperature prediction [68.67416597]\n"
     ]
    },
    {
     "name": "stderr",
     "output_type": "stream",
     "text": [
      "/opt/anaconda3/lib/python3.7/site-packages/pandas/core/generic.py:5516: SettingWithCopyWarning: \n",
      "A value is trying to be set on a copy of a slice from a DataFrame.\n",
      "Try using .loc[row_indexer,col_indexer] = value instead\n",
      "\n",
      "See the caveats in the documentation: https://pandas.pydata.org/pandas-docs/stable/user_guide/indexing.html#returning-a-view-versus-a-copy\n",
      "  self[name] = value\n",
      "/opt/anaconda3/lib/python3.7/site-packages/ipykernel_launcher.py:13: SettingWithCopyWarning: \n",
      "A value is trying to be set on a copy of a slice from a DataFrame.\n",
      "Try using .loc[row_indexer,col_indexer] = value instead\n",
      "\n",
      "See the caveats in the documentation: https://pandas.pydata.org/pandas-docs/stable/user_guide/indexing.html#returning-a-view-versus-a-copy\n",
      "  del sys.path[0]\n"
     ]
    }
   ],
   "source": [
    "est = get_pickle('./mean temperature_4_gbtCV.pkl')\n",
    "print(\"4-day temperature prediction\", k_to_f(est.predict(populate_test(df_4, est, 4))))"
   ]
  },
  {
   "cell_type": "code",
   "execution_count": 24,
   "id": "942c7560",
   "metadata": {},
   "outputs": [
    {
     "name": "stdout",
     "output_type": "stream",
     "text": [
      "7-day temperature prediction [58.80086088]\n"
     ]
    },
    {
     "name": "stderr",
     "output_type": "stream",
     "text": [
      "/opt/anaconda3/lib/python3.7/site-packages/pandas/core/generic.py:5516: SettingWithCopyWarning: \n",
      "A value is trying to be set on a copy of a slice from a DataFrame.\n",
      "Try using .loc[row_indexer,col_indexer] = value instead\n",
      "\n",
      "See the caveats in the documentation: https://pandas.pydata.org/pandas-docs/stable/user_guide/indexing.html#returning-a-view-versus-a-copy\n",
      "  self[name] = value\n",
      "/opt/anaconda3/lib/python3.7/site-packages/ipykernel_launcher.py:13: SettingWithCopyWarning: \n",
      "A value is trying to be set on a copy of a slice from a DataFrame.\n",
      "Try using .loc[row_indexer,col_indexer] = value instead\n",
      "\n",
      "See the caveats in the documentation: https://pandas.pydata.org/pandas-docs/stable/user_guide/indexing.html#returning-a-view-versus-a-copy\n",
      "  del sys.path[0]\n"
     ]
    }
   ],
   "source": [
    "est = get_pickle('./mean temperature_7_gbtCV.pkl')\n",
    "print(\"7-day temperature prediction\", k_to_f(est.predict(populate_test(df_7, est, 7))))"
   ]
  },
  {
   "cell_type": "code",
   "execution_count": 26,
   "id": "d21b8c2a",
   "metadata": {},
   "outputs": [
    {
     "name": "stdout",
     "output_type": "stream",
     "text": [
      "4-day humidity prediction [72.18337495]\n"
     ]
    },
    {
     "name": "stderr",
     "output_type": "stream",
     "text": [
      "/opt/anaconda3/lib/python3.7/site-packages/pandas/core/generic.py:5516: SettingWithCopyWarning: \n",
      "A value is trying to be set on a copy of a slice from a DataFrame.\n",
      "Try using .loc[row_indexer,col_indexer] = value instead\n",
      "\n",
      "See the caveats in the documentation: https://pandas.pydata.org/pandas-docs/stable/user_guide/indexing.html#returning-a-view-versus-a-copy\n",
      "  self[name] = value\n",
      "/opt/anaconda3/lib/python3.7/site-packages/ipykernel_launcher.py:13: SettingWithCopyWarning: \n",
      "A value is trying to be set on a copy of a slice from a DataFrame.\n",
      "Try using .loc[row_indexer,col_indexer] = value instead\n",
      "\n",
      "See the caveats in the documentation: https://pandas.pydata.org/pandas-docs/stable/user_guide/indexing.html#returning-a-view-versus-a-copy\n",
      "  del sys.path[0]\n"
     ]
    }
   ],
   "source": [
    "est = get_pickle('./mean humidity_4_gbtCV.pkl')\n",
    "print(\"4-day humidity prediction\", est.predict(populate_test(df_4, est, 4)))"
   ]
  },
  {
   "cell_type": "code",
   "execution_count": 27,
   "id": "1298e00e",
   "metadata": {},
   "outputs": [
    {
     "name": "stdout",
     "output_type": "stream",
     "text": [
      "7-day humidity prediction [72.10873759]\n"
     ]
    },
    {
     "name": "stderr",
     "output_type": "stream",
     "text": [
      "/opt/anaconda3/lib/python3.7/site-packages/pandas/core/generic.py:5516: SettingWithCopyWarning: \n",
      "A value is trying to be set on a copy of a slice from a DataFrame.\n",
      "Try using .loc[row_indexer,col_indexer] = value instead\n",
      "\n",
      "See the caveats in the documentation: https://pandas.pydata.org/pandas-docs/stable/user_guide/indexing.html#returning-a-view-versus-a-copy\n",
      "  self[name] = value\n",
      "/opt/anaconda3/lib/python3.7/site-packages/ipykernel_launcher.py:13: SettingWithCopyWarning: \n",
      "A value is trying to be set on a copy of a slice from a DataFrame.\n",
      "Try using .loc[row_indexer,col_indexer] = value instead\n",
      "\n",
      "See the caveats in the documentation: https://pandas.pydata.org/pandas-docs/stable/user_guide/indexing.html#returning-a-view-versus-a-copy\n",
      "  del sys.path[0]\n"
     ]
    }
   ],
   "source": [
    "est = get_pickle('./mean humidity_7_gbtCV.pkl')\n",
    "print(\"7-day humidity prediction\", est.predict(populate_test(df_7, est, 7)))"
   ]
  },
  {
   "cell_type": "code",
   "execution_count": 25,
   "id": "76ee7fdf",
   "metadata": {},
   "outputs": [
    {
     "name": "stdout",
     "output_type": "stream",
     "text": [
      "1-day temperature prediction [61.49510693]\n"
     ]
    },
    {
     "name": "stderr",
     "output_type": "stream",
     "text": [
      "/opt/anaconda3/lib/python3.7/site-packages/pandas/core/generic.py:5516: SettingWithCopyWarning: \n",
      "A value is trying to be set on a copy of a slice from a DataFrame.\n",
      "Try using .loc[row_indexer,col_indexer] = value instead\n",
      "\n",
      "See the caveats in the documentation: https://pandas.pydata.org/pandas-docs/stable/user_guide/indexing.html#returning-a-view-versus-a-copy\n",
      "  self[name] = value\n",
      "/opt/anaconda3/lib/python3.7/site-packages/ipykernel_launcher.py:13: SettingWithCopyWarning: \n",
      "A value is trying to be set on a copy of a slice from a DataFrame.\n",
      "Try using .loc[row_indexer,col_indexer] = value instead\n",
      "\n",
      "See the caveats in the documentation: https://pandas.pydata.org/pandas-docs/stable/user_guide/indexing.html#returning-a-view-versus-a-copy\n",
      "  del sys.path[0]\n"
     ]
    }
   ],
   "source": [
    "est = get_pickle('./mean temperature_1_gbtCV.pkl')\n",
    "print(\"1-day temperature prediction\", k_to_f(est.predict(populate_test(df_1, est, 1))))"
   ]
  },
  {
   "cell_type": "code",
   "execution_count": 28,
   "id": "e785a98b",
   "metadata": {},
   "outputs": [
    {
     "name": "stdout",
     "output_type": "stream",
     "text": [
      "1-day humidity prediction [81.28814374]\n"
     ]
    },
    {
     "name": "stderr",
     "output_type": "stream",
     "text": [
      "/opt/anaconda3/lib/python3.7/site-packages/pandas/core/generic.py:5516: SettingWithCopyWarning: \n",
      "A value is trying to be set on a copy of a slice from a DataFrame.\n",
      "Try using .loc[row_indexer,col_indexer] = value instead\n",
      "\n",
      "See the caveats in the documentation: https://pandas.pydata.org/pandas-docs/stable/user_guide/indexing.html#returning-a-view-versus-a-copy\n",
      "  self[name] = value\n",
      "/opt/anaconda3/lib/python3.7/site-packages/ipykernel_launcher.py:13: SettingWithCopyWarning: \n",
      "A value is trying to be set on a copy of a slice from a DataFrame.\n",
      "Try using .loc[row_indexer,col_indexer] = value instead\n",
      "\n",
      "See the caveats in the documentation: https://pandas.pydata.org/pandas-docs/stable/user_guide/indexing.html#returning-a-view-versus-a-copy\n",
      "  del sys.path[0]\n"
     ]
    }
   ],
   "source": [
    "est = get_pickle('./mean humidity_1_gbtCV.pkl')\n",
    "print(\"1-day humidity prediction\", est.predict(populate_test(df_1, est, 1)))"
   ]
  },
  {
   "cell_type": "code",
   "execution_count": null,
   "id": "c41990ca",
   "metadata": {},
   "outputs": [],
   "source": []
  }
 ],
 "metadata": {
  "kernelspec": {
   "display_name": "Python 3 (ipykernel)",
   "language": "python",
   "name": "python3"
  },
  "language_info": {
   "codemirror_mode": {
    "name": "ipython",
    "version": 3
   },
   "file_extension": ".py",
   "mimetype": "text/x-python",
   "name": "python",
   "nbconvert_exporter": "python",
   "pygments_lexer": "ipython3",
   "version": "3.9.7"
  }
 },
 "nbformat": 4,
 "nbformat_minor": 5
}
