{
 "cells": [
  {
   "cell_type": "code",
   "execution_count": 1,
   "id": "721d47da",
   "metadata": {},
   "outputs": [],
   "source": [
    "import pandas as pd\n",
    "import numpy as np\n",
    "from sklearn.linear_model import LinearRegression\n",
    "from sklearn.ensemble import RandomForestRegressor, GradientBoostingRegressor\n",
    "from sklearn.model_selection import GridSearchCV, train_test_split, cross_validate"
   ]
  },
  {
   "cell_type": "code",
   "execution_count": 2,
   "id": "1f8513d2",
   "metadata": {},
   "outputs": [
    {
     "data": {
      "text/html": [
       "<div>\n",
       "<style scoped>\n",
       "    .dataframe tbody tr th:only-of-type {\n",
       "        vertical-align: middle;\n",
       "    }\n",
       "\n",
       "    .dataframe tbody tr th {\n",
       "        vertical-align: top;\n",
       "    }\n",
       "\n",
       "    .dataframe thead th {\n",
       "        text-align: right;\n",
       "    }\n",
       "</style>\n",
       "<table border=\"1\" class=\"dataframe\">\n",
       "  <thead>\n",
       "    <tr style=\"text-align: right;\">\n",
       "      <th></th>\n",
       "      <th>mean_temperature_3</th>\n",
       "      <th>mean_temperature_2</th>\n",
       "      <th>mean_temperature_1</th>\n",
       "      <th>day_of_year</th>\n",
       "      <th>temperature_0_12</th>\n",
       "      <th>temperature_0_13</th>\n",
       "      <th>temperature_0_14</th>\n",
       "      <th>temperature_0_15</th>\n",
       "      <th>temperature_0_16</th>\n",
       "      <th>temperature_0_17</th>\n",
       "      <th>...</th>\n",
       "      <th>wind_speed_0_2</th>\n",
       "      <th>wind_speed_0_3</th>\n",
       "      <th>wind_speed_0_4</th>\n",
       "      <th>wind_speed_0_5</th>\n",
       "      <th>wind_speed_0_6</th>\n",
       "      <th>wind_speed_0_7</th>\n",
       "      <th>wind_speed_0_8</th>\n",
       "      <th>wind_speed_0_9</th>\n",
       "      <th>wind_speed_0_10</th>\n",
       "      <th>wind_speed_0_11</th>\n",
       "    </tr>\n",
       "  </thead>\n",
       "  <tbody>\n",
       "    <tr>\n",
       "      <th>32</th>\n",
       "      <td>300.634792</td>\n",
       "      <td>302.856458</td>\n",
       "      <td>302.795433</td>\n",
       "      <td>275</td>\n",
       "      <td>309.100000</td>\n",
       "      <td>310.580000</td>\n",
       "      <td>310.495769</td>\n",
       "      <td>310.411538</td>\n",
       "      <td>310.327308</td>\n",
       "      <td>310.243077</td>\n",
       "      <td>...</td>\n",
       "      <td>9.0</td>\n",
       "      <td>9.0</td>\n",
       "      <td>9.0</td>\n",
       "      <td>9.0</td>\n",
       "      <td>9.0</td>\n",
       "      <td>9.0</td>\n",
       "      <td>9.0</td>\n",
       "      <td>9.0</td>\n",
       "      <td>9.0</td>\n",
       "      <td>9.0</td>\n",
       "    </tr>\n",
       "    <tr>\n",
       "      <th>37</th>\n",
       "      <td>288.131042</td>\n",
       "      <td>288.033958</td>\n",
       "      <td>286.062292</td>\n",
       "      <td>276</td>\n",
       "      <td>282.272771</td>\n",
       "      <td>282.281385</td>\n",
       "      <td>282.290000</td>\n",
       "      <td>282.510000</td>\n",
       "      <td>284.440000</td>\n",
       "      <td>287.860000</td>\n",
       "      <td>...</td>\n",
       "      <td>4.0</td>\n",
       "      <td>3.0</td>\n",
       "      <td>3.0</td>\n",
       "      <td>4.0</td>\n",
       "      <td>4.0</td>\n",
       "      <td>3.0</td>\n",
       "      <td>1.0</td>\n",
       "      <td>4.0</td>\n",
       "      <td>4.0</td>\n",
       "      <td>4.0</td>\n",
       "    </tr>\n",
       "    <tr>\n",
       "      <th>38</th>\n",
       "      <td>289.920417</td>\n",
       "      <td>292.629167</td>\n",
       "      <td>296.770417</td>\n",
       "      <td>276</td>\n",
       "      <td>289.158749</td>\n",
       "      <td>289.144375</td>\n",
       "      <td>289.130000</td>\n",
       "      <td>290.730000</td>\n",
       "      <td>293.020000</td>\n",
       "      <td>296.180000</td>\n",
       "      <td>...</td>\n",
       "      <td>8.0</td>\n",
       "      <td>5.0</td>\n",
       "      <td>4.0</td>\n",
       "      <td>2.0</td>\n",
       "      <td>2.0</td>\n",
       "      <td>1.0</td>\n",
       "      <td>4.0</td>\n",
       "      <td>0.0</td>\n",
       "      <td>0.0</td>\n",
       "      <td>0.0</td>\n",
       "    </tr>\n",
       "  </tbody>\n",
       "</table>\n",
       "<p>3 rows × 124 columns</p>\n",
       "</div>"
      ],
      "text/plain": [
       "    mean_temperature_3  mean_temperature_2  mean_temperature_1  day_of_year  \\\n",
       "32          300.634792          302.856458          302.795433          275   \n",
       "37          288.131042          288.033958          286.062292          276   \n",
       "38          289.920417          292.629167          296.770417          276   \n",
       "\n",
       "    temperature_0_12  temperature_0_13  temperature_0_14  temperature_0_15  \\\n",
       "32        309.100000        310.580000        310.495769        310.411538   \n",
       "37        282.272771        282.281385        282.290000        282.510000   \n",
       "38        289.158749        289.144375        289.130000        290.730000   \n",
       "\n",
       "    temperature_0_16  temperature_0_17  ...  wind_speed_0_2  wind_speed_0_3  \\\n",
       "32        310.327308        310.243077  ...             9.0             9.0   \n",
       "37        284.440000        287.860000  ...             4.0             3.0   \n",
       "38        293.020000        296.180000  ...             8.0             5.0   \n",
       "\n",
       "    wind_speed_0_4  wind_speed_0_5  wind_speed_0_6  wind_speed_0_7  \\\n",
       "32             9.0             9.0             9.0             9.0   \n",
       "37             3.0             4.0             4.0             3.0   \n",
       "38             4.0             2.0             2.0             1.0   \n",
       "\n",
       "    wind_speed_0_8  wind_speed_0_9  wind_speed_0_10  wind_speed_0_11  \n",
       "32             9.0             9.0              9.0              9.0  \n",
       "37             1.0             4.0              4.0              4.0  \n",
       "38             4.0             0.0              0.0              0.0  \n",
       "\n",
       "[3 rows x 124 columns]"
      ]
     },
     "execution_count": 2,
     "metadata": {},
     "output_type": "execute_result"
    }
   ],
   "source": [
    "df = pd.read_hdf('./data/big_data.h5')\n",
    "df.head(3)"
   ]
  },
  {
   "cell_type": "code",
   "execution_count": 3,
   "id": "eed42090",
   "metadata": {},
   "outputs": [
    {
     "data": {
      "text/html": [
       "<div>\n",
       "<style scoped>\n",
       "    .dataframe tbody tr th:only-of-type {\n",
       "        vertical-align: middle;\n",
       "    }\n",
       "\n",
       "    .dataframe tbody tr th {\n",
       "        vertical-align: top;\n",
       "    }\n",
       "\n",
       "    .dataframe thead th {\n",
       "        text-align: right;\n",
       "    }\n",
       "</style>\n",
       "<table border=\"1\" class=\"dataframe\">\n",
       "  <thead>\n",
       "    <tr style=\"text-align: right;\">\n",
       "      <th></th>\n",
       "      <th>Temp_max</th>\n",
       "      <th>Temp_avg</th>\n",
       "      <th>Temp_min</th>\n",
       "      <th>Dew_max</th>\n",
       "      <th>Dew_avg</th>\n",
       "      <th>Dew_min</th>\n",
       "      <th>Hum_max</th>\n",
       "      <th>Hum_avg</th>\n",
       "      <th>Hum_min</th>\n",
       "      <th>Wind_max</th>\n",
       "      <th>Wind_avg</th>\n",
       "      <th>Wind_min</th>\n",
       "      <th>Pres_max</th>\n",
       "      <th>Pres_avg</th>\n",
       "      <th>Pres_min</th>\n",
       "      <th>Precipitation</th>\n",
       "      <th>Date</th>\n",
       "    </tr>\n",
       "  </thead>\n",
       "  <tbody>\n",
       "    <tr>\n",
       "      <th>0</th>\n",
       "      <td>21</td>\n",
       "      <td>15.3</td>\n",
       "      <td>6</td>\n",
       "      <td>17</td>\n",
       "      <td>8.8</td>\n",
       "      <td>-6</td>\n",
       "      <td>93</td>\n",
       "      <td>76.0</td>\n",
       "      <td>58</td>\n",
       "      <td>22</td>\n",
       "      <td>12.2</td>\n",
       "      <td>0</td>\n",
       "      <td>29.8</td>\n",
       "      <td>29.7</td>\n",
       "      <td>29.6</td>\n",
       "      <td>0.0</td>\n",
       "      <td>1999-1-1</td>\n",
       "    </tr>\n",
       "    <tr>\n",
       "      <th>1</th>\n",
       "      <td>26</td>\n",
       "      <td>22.4</td>\n",
       "      <td>18</td>\n",
       "      <td>25</td>\n",
       "      <td>20.8</td>\n",
       "      <td>16</td>\n",
       "      <td>100</td>\n",
       "      <td>93.5</td>\n",
       "      <td>86</td>\n",
       "      <td>31</td>\n",
       "      <td>19.9</td>\n",
       "      <td>7</td>\n",
       "      <td>29.6</td>\n",
       "      <td>29.1</td>\n",
       "      <td>28.8</td>\n",
       "      <td>0.0</td>\n",
       "      <td>1999-1-2</td>\n",
       "    </tr>\n",
       "    <tr>\n",
       "      <th>2</th>\n",
       "      <td>25</td>\n",
       "      <td>14.0</td>\n",
       "      <td>5</td>\n",
       "      <td>24</td>\n",
       "      <td>9.4</td>\n",
       "      <td>0</td>\n",
       "      <td>96</td>\n",
       "      <td>81.8</td>\n",
       "      <td>71</td>\n",
       "      <td>21</td>\n",
       "      <td>17.4</td>\n",
       "      <td>14</td>\n",
       "      <td>29.3</td>\n",
       "      <td>29.0</td>\n",
       "      <td>28.7</td>\n",
       "      <td>0.0</td>\n",
       "      <td>1999-1-3</td>\n",
       "    </tr>\n",
       "  </tbody>\n",
       "</table>\n",
       "</div>"
      ],
      "text/plain": [
       "   Temp_max  Temp_avg  Temp_min  Dew_max  Dew_avg  Dew_min  Hum_max  Hum_avg  \\\n",
       "0        21      15.3         6       17      8.8       -6       93     76.0   \n",
       "1        26      22.4        18       25     20.8       16      100     93.5   \n",
       "2        25      14.0         5       24      9.4        0       96     81.8   \n",
       "\n",
       "   Hum_min  Wind_max  Wind_avg  Wind_min  Pres_max  Pres_avg  Pres_min  \\\n",
       "0       58        22      12.2         0      29.8      29.7      29.6   \n",
       "1       86        31      19.9         7      29.6      29.1      28.8   \n",
       "2       71        21      17.4        14      29.3      29.0      28.7   \n",
       "\n",
       "   Precipitation      Date  \n",
       "0            0.0  1999-1-1  \n",
       "1            0.0  1999-1-2  \n",
       "2            0.0  1999-1-3  "
      ]
     },
     "execution_count": 3,
     "metadata": {},
     "output_type": "execute_result"
    }
   ],
   "source": [
    "df = pd.read_csv('./data/wunderground_scraped_data.csv')\n",
    "df.head(3)"
   ]
  },
  {
   "cell_type": "code",
   "execution_count": 4,
   "id": "dde1a845",
   "metadata": {},
   "outputs": [
    {
     "data": {
      "text/plain": [
       "(7672, 17)"
      ]
     },
     "execution_count": 4,
     "metadata": {},
     "output_type": "execute_result"
    }
   ],
   "source": [
    "df.shape"
   ]
  },
  {
   "cell_type": "code",
   "execution_count": 5,
   "id": "444cb405",
   "metadata": {},
   "outputs": [
    {
     "data": {
      "text/plain": [
       "Temp_max           int64\n",
       "Temp_avg         float64\n",
       "Temp_min           int64\n",
       "Dew_max            int64\n",
       "Dew_avg          float64\n",
       "Dew_min            int64\n",
       "Hum_max            int64\n",
       "Hum_avg          float64\n",
       "Hum_min            int64\n",
       "Wind_max           int64\n",
       "Wind_avg         float64\n",
       "Wind_min           int64\n",
       "Pres_max         float64\n",
       "Pres_avg         float64\n",
       "Pres_min         float64\n",
       "Precipitation    float64\n",
       "Date              object\n",
       "dtype: object"
      ]
     },
     "execution_count": 5,
     "metadata": {},
     "output_type": "execute_result"
    }
   ],
   "source": [
    "df.dtypes"
   ]
  },
  {
   "cell_type": "code",
   "execution_count": 6,
   "id": "392b909c",
   "metadata": {},
   "outputs": [],
   "source": [
    "df.Date = pd.to_datetime(df.Date, format=\"%Y-%M-%d\")"
   ]
  },
  {
   "cell_type": "code",
   "execution_count": 7,
   "id": "00212bf2",
   "metadata": {},
   "outputs": [],
   "source": [
    "df['Month'] = pd.DatetimeIndex(df.Date).month"
   ]
  },
  {
   "cell_type": "code",
   "execution_count": 8,
   "id": "e3a70042",
   "metadata": {},
   "outputs": [],
   "source": [
    "df.Month = df.Month.astype('category')"
   ]
  },
  {
   "cell_type": "code",
   "execution_count": 9,
   "id": "243573a1",
   "metadata": {},
   "outputs": [],
   "source": [
    "y = df.Temp_avg.shift(-3,axis=0)"
   ]
  },
  {
   "cell_type": "code",
   "execution_count": 10,
   "id": "99c56a35",
   "metadata": {},
   "outputs": [],
   "source": [
    "y.iloc[7669] = df.Temp_avg.iloc[2]\n",
    "y.iloc[7670] = df.Temp_avg.iloc[1]\n",
    "y.iloc[7671] = df.Temp_avg.iloc[0]"
   ]
  },
  {
   "cell_type": "code",
   "execution_count": 11,
   "id": "7defe146",
   "metadata": {},
   "outputs": [
    {
     "data": {
      "text/plain": [
       "7667    32.1\n",
       "7668    25.8\n",
       "7669    14.0\n",
       "7670    22.4\n",
       "7671    15.3\n",
       "Name: Temp_avg, dtype: float64"
      ]
     },
     "execution_count": 11,
     "metadata": {},
     "output_type": "execute_result"
    }
   ],
   "source": [
    "y.tail()"
   ]
  },
  {
   "cell_type": "code",
   "execution_count": 33,
   "id": "31c6e6b7",
   "metadata": {},
   "outputs": [
    {
     "data": {
      "text/html": [
       "<div>\n",
       "<style scoped>\n",
       "    .dataframe tbody tr th:only-of-type {\n",
       "        vertical-align: middle;\n",
       "    }\n",
       "\n",
       "    .dataframe tbody tr th {\n",
       "        vertical-align: top;\n",
       "    }\n",
       "\n",
       "    .dataframe thead th {\n",
       "        text-align: right;\n",
       "    }\n",
       "</style>\n",
       "<table border=\"1\" class=\"dataframe\">\n",
       "  <thead>\n",
       "    <tr style=\"text-align: right;\">\n",
       "      <th></th>\n",
       "      <th>Temp_max</th>\n",
       "      <th>Temp_min</th>\n",
       "      <th>Dew_max</th>\n",
       "      <th>Dew_avg</th>\n",
       "      <th>Dew_min</th>\n",
       "      <th>Hum_max</th>\n",
       "      <th>Hum_avg</th>\n",
       "      <th>Hum_min</th>\n",
       "      <th>Wind_max</th>\n",
       "      <th>Wind_avg</th>\n",
       "      <th>Wind_min</th>\n",
       "      <th>Pres_max</th>\n",
       "      <th>Pres_avg</th>\n",
       "      <th>Pres_min</th>\n",
       "      <th>Precipitation</th>\n",
       "    </tr>\n",
       "  </thead>\n",
       "  <tbody>\n",
       "    <tr>\n",
       "      <th>0</th>\n",
       "      <td>-1.790709</td>\n",
       "      <td>-1.907250</td>\n",
       "      <td>-1.552186</td>\n",
       "      <td>-1.625805</td>\n",
       "      <td>-1.639072</td>\n",
       "      <td>0.591588</td>\n",
       "      <td>0.532052</td>\n",
       "      <td>0.499409</td>\n",
       "      <td>0.914458</td>\n",
       "      <td>0.720427</td>\n",
       "      <td>-0.855672</td>\n",
       "      <td>2.070572</td>\n",
       "      <td>1.555088</td>\n",
       "      <td>0.299399</td>\n",
       "      <td>-0.188746</td>\n",
       "    </tr>\n",
       "    <tr>\n",
       "      <th>1</th>\n",
       "      <td>-1.553707</td>\n",
       "      <td>-1.278230</td>\n",
       "      <td>-1.113554</td>\n",
       "      <td>-0.989699</td>\n",
       "      <td>-0.653243</td>\n",
       "      <td>1.281010</td>\n",
       "      <td>1.912986</td>\n",
       "      <td>2.320044</td>\n",
       "      <td>2.522830</td>\n",
       "      <td>2.870251</td>\n",
       "      <td>1.244749</td>\n",
       "      <td>1.043353</td>\n",
       "      <td>-0.726904</td>\n",
       "      <td>-0.186968</td>\n",
       "      <td>-0.188746</td>\n",
       "    </tr>\n",
       "    <tr>\n",
       "      <th>2</th>\n",
       "      <td>-1.601107</td>\n",
       "      <td>-1.959669</td>\n",
       "      <td>-1.168383</td>\n",
       "      <td>-1.594000</td>\n",
       "      <td>-1.370209</td>\n",
       "      <td>0.887054</td>\n",
       "      <td>0.989733</td>\n",
       "      <td>1.344704</td>\n",
       "      <td>0.735750</td>\n",
       "      <td>2.172256</td>\n",
       "      <td>3.345169</td>\n",
       "      <td>-0.497476</td>\n",
       "      <td>-1.107236</td>\n",
       "      <td>-0.247764</td>\n",
       "      <td>-0.188746</td>\n",
       "    </tr>\n",
       "  </tbody>\n",
       "</table>\n",
       "</div>"
      ],
      "text/plain": [
       "   Temp_max  Temp_min   Dew_max   Dew_avg   Dew_min   Hum_max   Hum_avg  \\\n",
       "0 -1.790709 -1.907250 -1.552186 -1.625805 -1.639072  0.591588  0.532052   \n",
       "1 -1.553707 -1.278230 -1.113554 -0.989699 -0.653243  1.281010  1.912986   \n",
       "2 -1.601107 -1.959669 -1.168383 -1.594000 -1.370209  0.887054  0.989733   \n",
       "\n",
       "    Hum_min  Wind_max  Wind_avg  Wind_min  Pres_max  Pres_avg  Pres_min  \\\n",
       "0  0.499409  0.914458  0.720427 -0.855672  2.070572  1.555088  0.299399   \n",
       "1  2.320044  2.522830  2.870251  1.244749  1.043353 -0.726904 -0.186968   \n",
       "2  1.344704  0.735750  2.172256  3.345169 -0.497476 -1.107236 -0.247764   \n",
       "\n",
       "   Precipitation  \n",
       "0      -0.188746  \n",
       "1      -0.188746  \n",
       "2      -0.188746  "
      ]
     },
     "execution_count": 33,
     "metadata": {},
     "output_type": "execute_result"
    }
   ],
   "source": [
    "X_num = df.select_dtypes(include='number')\n",
    "X_num = X_num.drop('Temp_avg',axis=1)\n",
    "X_cat = df.Month\n",
    "X_num = (X_num - X_num.mean()) / X_num.std()\n",
    "X_cat = pd.get_dummies(X_cat)\n",
    "# X = pd.concat([X_num,X_cat],axis=1)\n",
    "X = X_num\n",
    "X.head(3)"
   ]
  },
  {
   "cell_type": "code",
   "execution_count": 34,
   "id": "289e5d28",
   "metadata": {},
   "outputs": [
    {
     "name": "stdout",
     "output_type": "stream",
     "text": [
      "Train R2:  0.78\n"
     ]
    }
   ],
   "source": [
    "lr = LinearRegression()\n",
    "lr.fit(X, y)\n",
    "R2_train = lr.score(X,y)\n",
    "print(\"Train R2: \" ,R2_train.round(2))"
   ]
  },
  {
   "cell_type": "code",
   "execution_count": 35,
   "id": "99abe16d",
   "metadata": {},
   "outputs": [
    {
     "data": {
      "text/plain": [
       "Temp_min         9.078037\n",
       "Dew_avg          6.030160\n",
       "Temp_max         2.389275\n",
       "Pres_max         1.544878\n",
       "Pres_avg         1.026290\n",
       "Hum_max          0.968637\n",
       "Dew_min          0.731006\n",
       "Precipitation    0.369653\n",
       "Wind_avg        -0.303195\n",
       "Wind_min        -0.406403\n",
       "Wind_max        -0.661110\n",
       "Pres_min        -0.670038\n",
       "Dew_max         -0.913595\n",
       "Hum_min         -1.112979\n",
       "Hum_avg         -2.940849\n",
       "dtype: float64"
      ]
     },
     "execution_count": 35,
     "metadata": {},
     "output_type": "execute_result"
    }
   ],
   "source": [
    "coef = lr.coef_\n",
    "coef = pd.Series(coef, index=X.columns)\n",
    "coef.sort_values(ascending=False)"
   ]
  },
  {
   "cell_type": "code",
   "execution_count": 15,
   "id": "afa3ee3f",
   "metadata": {},
   "outputs": [
    {
     "data": {
      "text/plain": [
       "{'fit_time': array([0.00603628, 0.00860691, 0.00590754, 0.00963187, 0.        ]),\n",
       " 'score_time': array([0.        , 0.        , 0.        , 0.00439334, 0.        ]),\n",
       " 'test_score': array([0.78096683, 0.75358353, 0.80164486, 0.76749444, 0.77100735]),\n",
       " 'train_score': array([0.77784808, 0.78440141, 0.77280141, 0.78084697, 0.78103078])}"
      ]
     },
     "execution_count": 15,
     "metadata": {},
     "output_type": "execute_result"
    }
   ],
   "source": [
    "scores = cross_validate(lr, X, y, return_train_score=True)\n",
    "scores"
   ]
  },
  {
   "cell_type": "code",
   "execution_count": 16,
   "id": "01a22e26",
   "metadata": {},
   "outputs": [
    {
     "name": "stdout",
     "output_type": "stream",
     "text": [
      "Train R2: 0.78\n",
      "Valid R2: 0.77\n"
     ]
    }
   ],
   "source": [
    "R2_test = scores['test_score'].mean()\n",
    "R2_train = scores['train_score'].mean()\n",
    "print(\"Train R2:\", R2_train.round(2))\n",
    "print(\"Valid R2:\", R2_test.round(2))"
   ]
  },
  {
   "cell_type": "markdown",
   "id": "02172a09",
   "metadata": {},
   "source": [
    "## Testing Forests"
   ]
  },
  {
   "cell_type": "code",
   "execution_count": 17,
   "id": "14261478",
   "metadata": {},
   "outputs": [
    {
     "data": {
      "text/plain": [
       "GridSearchCV(estimator=RandomForestRegressor(), n_jobs=-1,\n",
       "             param_grid={'n_estimators': range(1, 2000, 300)},\n",
       "             return_train_score=True)"
      ]
     },
     "execution_count": 17,
     "metadata": {},
     "output_type": "execute_result"
    }
   ],
   "source": [
    "rf = RandomForestRegressor()\n",
    "grid = {'n_estimators': range(1,2000,300)}\n",
    "rfCV = GridSearchCV(rf,\n",
    "                   param_grid=grid,\n",
    "                   return_train_score=True,\n",
    "                   n_jobs=-1)\n",
    "rfCV.fit(X,y)"
   ]
  },
  {
   "cell_type": "code",
   "execution_count": 18,
   "id": "02688d98",
   "metadata": {},
   "outputs": [
    {
     "data": {
      "text/plain": [
       "{'n_estimators': 1201}"
      ]
     },
     "execution_count": 18,
     "metadata": {},
     "output_type": "execute_result"
    }
   ],
   "source": [
    "rfCV.best_params_"
   ]
  },
  {
   "cell_type": "code",
   "execution_count": 19,
   "id": "9d218fc5",
   "metadata": {},
   "outputs": [
    {
     "data": {
      "text/plain": [
       "0.7813234378989897"
      ]
     },
     "execution_count": 19,
     "metadata": {},
     "output_type": "execute_result"
    }
   ],
   "source": [
    "rfCV.best_score_"
   ]
  },
  {
   "cell_type": "code",
   "execution_count": 20,
   "id": "bc3739e6",
   "metadata": {},
   "outputs": [
    {
     "data": {
      "text/plain": [
       "GridSearchCV(estimator=RandomForestRegressor(), n_jobs=-1,\n",
       "             param_grid={'n_estimators': range(900, 1500, 100)},\n",
       "             return_train_score=True)"
      ]
     },
     "execution_count": 20,
     "metadata": {},
     "output_type": "execute_result"
    }
   ],
   "source": [
    "rf = RandomForestRegressor()\n",
    "grid = {'n_estimators': range(900, 1500, 100)}\n",
    "rfCV = GridSearchCV(rf,\n",
    "                   param_grid=grid,\n",
    "                   return_train_score=True,\n",
    "                   n_jobs=-1)\n",
    "rfCV.fit(X,y)"
   ]
  },
  {
   "cell_type": "code",
   "execution_count": 21,
   "id": "6c939f0c",
   "metadata": {},
   "outputs": [
    {
     "data": {
      "text/plain": [
       "{'n_estimators': 1000}"
      ]
     },
     "execution_count": 21,
     "metadata": {},
     "output_type": "execute_result"
    }
   ],
   "source": [
    "rfCV.best_params_"
   ]
  },
  {
   "cell_type": "code",
   "execution_count": 22,
   "id": "8d3d6576",
   "metadata": {},
   "outputs": [
    {
     "data": {
      "text/plain": [
       "0.7813968425552182"
      ]
     },
     "execution_count": 22,
     "metadata": {},
     "output_type": "execute_result"
    }
   ],
   "source": [
    "rfCV.best_score_"
   ]
  },
  {
   "cell_type": "code",
   "execution_count": 23,
   "id": "9bc6f258",
   "metadata": {},
   "outputs": [
    {
     "data": {
      "text/plain": [
       "GridSearchCV(estimator=RandomForestRegressor(), n_jobs=-1,\n",
       "             param_grid={'n_estimators': range(900, 1100, 10)},\n",
       "             return_train_score=True)"
      ]
     },
     "execution_count": 23,
     "metadata": {},
     "output_type": "execute_result"
    }
   ],
   "source": [
    "rf = RandomForestRegressor()\n",
    "grid = {'n_estimators': range(900, 1100, 10)}\n",
    "rfCV = GridSearchCV(rf,\n",
    "                   param_grid=grid,\n",
    "                   return_train_score=True,\n",
    "                   n_jobs=-1)\n",
    "rfCV.fit(X,y)"
   ]
  },
  {
   "cell_type": "code",
   "execution_count": 24,
   "id": "3b21e244",
   "metadata": {},
   "outputs": [
    {
     "data": {
      "text/plain": [
       "{'n_estimators': 900}"
      ]
     },
     "execution_count": 24,
     "metadata": {},
     "output_type": "execute_result"
    }
   ],
   "source": [
    "rfCV.best_params_"
   ]
  },
  {
   "cell_type": "code",
   "execution_count": 25,
   "id": "5f1415d5",
   "metadata": {},
   "outputs": [
    {
     "data": {
      "text/plain": [
       "0.7815380574942452"
      ]
     },
     "execution_count": 25,
     "metadata": {},
     "output_type": "execute_result"
    }
   ],
   "source": [
    "rfCV.best_score_"
   ]
  },
  {
   "cell_type": "code",
   "execution_count": 29,
   "id": "eea45d6f",
   "metadata": {},
   "outputs": [],
   "source": [
    "gb = GradientBoostingRegressor()\n",
    "grid = {'n_estimators':range(800,1200,100),\n",
    "        'learning_rate':np.arange(0.01,0.3,0.05)}\n",
    "gbCV = GridSearchCV(gb,param_grid=grid,return_train_score=True,n_jobs=-1)"
   ]
  },
  {
   "cell_type": "code",
   "execution_count": 30,
   "id": "dd31984a",
   "metadata": {},
   "outputs": [
    {
     "data": {
      "text/plain": [
       "GridSearchCV(estimator=GradientBoostingRegressor(), n_jobs=-1,\n",
       "             param_grid={'learning_rate': array([0.01, 0.06, 0.11, 0.16, 0.21, 0.26]),\n",
       "                         'n_estimators': range(800, 1200, 100)},\n",
       "             return_train_score=True)"
      ]
     },
     "execution_count": 30,
     "metadata": {},
     "output_type": "execute_result"
    }
   ],
   "source": [
    "gbCV.fit(X,y)"
   ]
  },
  {
   "cell_type": "code",
   "execution_count": 31,
   "id": "32b8f204",
   "metadata": {},
   "outputs": [
    {
     "data": {
      "text/plain": [
       "{'learning_rate': 0.01, 'n_estimators': 800}"
      ]
     },
     "execution_count": 31,
     "metadata": {},
     "output_type": "execute_result"
    }
   ],
   "source": [
    "gbCV.best_params_"
   ]
  },
  {
   "cell_type": "code",
   "execution_count": 32,
   "id": "f477cc57",
   "metadata": {},
   "outputs": [
    {
     "data": {
      "text/plain": [
       "0.7847019580595382"
      ]
     },
     "execution_count": 32,
     "metadata": {},
     "output_type": "execute_result"
    }
   ],
   "source": [
    "gbCV.best_score_"
   ]
  },
  {
   "cell_type": "code",
   "execution_count": null,
   "id": "a6d9fc9e",
   "metadata": {},
   "outputs": [],
   "source": []
  }
 ],
 "metadata": {
  "kernelspec": {
   "display_name": "Python 3 (ipykernel)",
   "language": "python",
   "name": "python3"
  },
  "language_info": {
   "codemirror_mode": {
    "name": "ipython",
    "version": 3
   },
   "file_extension": ".py",
   "mimetype": "text/x-python",
   "name": "python",
   "nbconvert_exporter": "python",
   "pygments_lexer": "ipython3",
   "version": "3.9.7"
  }
 },
 "nbformat": 4,
 "nbformat_minor": 5
}
